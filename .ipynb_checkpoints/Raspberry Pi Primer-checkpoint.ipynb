{
 "cells": [
  {
   "cell_type": "markdown",
   "metadata": {},
   "source": [
    "# Raspberry Pi Primer\n",
    "There are few things to realize before beginning to work with a Raspberry Pi. First, the Pi is a full fledge computer. Computer being the common term of a computer. Not just a device that computes but a computer in the sense of something similar to your laptop or desktop computer. The Arduino is typically described as a computer but it's only a computer in the sense that it is able to compute. This is not the case with the Pi. The second thing to realize about the Pi is that although it is a full fledge computer, it has certain microcontroller characteristics. It has a [GPIO pins](https://learn.sparkfun.com/tutorials/raspberry-gpio/gpio-pinout) similar to the Arduino. It is capable of serial, I2C, and SPI communications. It however does not have an analog to digital converter (ADC). If you need to process an analog signal, you must use a seperate ADC to do that (see [here](https://www.sparkfun.com/products/15334) for one/Note: This ADC uses the [QWIIC](https://www.sparkfun.com/qwiic) and you may need additional hardware to use it).\n",
    "\n",
    "There are 2 main ways to use a Pi, using a desktop environment (DE) and using the command line interface (CLI). Below is a quick summary of the pros and cons of using each.\n",
    "## Desktop enironment:\n",
    "### Pro\n",
    "* Very similar to using a regular computer (i.e. mouse and keyboard interactions)\n",
    "* Many programs only work on a DE\n",
    "\n",
    "### Con\n",
    "* Resource heavy (storage space, memory, cpu, etc.)\n",
    "* Often times a DE is not necessary\n",
    "\n",
    "## Command line interface:\n",
    "### Pro\n",
    "* Utilizes little system resources (storage space, memory, cpu, etc.)\n",
    "* More professional\n",
    "\n",
    "### Con\n",
    "* No mouse, you must type everything as a command\n",
    "* Can be quite an adjustment from other computer tasks\n",
    "\n",
    "I would actually encourage just using the CLI. Once you overcome the initial fear of using the CLI, it is not so bad. Regardless of whether you use a DE or the CLI, you will at some point have to using the CLI so you might as well start off with it.\n",
    "\n",
    "Once you have decided whether you are going to go with the DE or CLI, you can go ahead and install the operating system (OS) for the Pi.\n"
   ]
  }
 ],
 "metadata": {
  "kernelspec": {
   "display_name": "Python 3",
   "language": "python",
   "name": "python3"
  },
  "language_info": {
   "codemirror_mode": {
    "name": "ipython",
    "version": 3
   },
   "file_extension": ".py",
   "mimetype": "text/x-python",
   "name": "python",
   "nbconvert_exporter": "python",
   "pygments_lexer": "ipython3",
   "version": "3.7.0"
  }
 },
 "nbformat": 4,
 "nbformat_minor": 4
}
