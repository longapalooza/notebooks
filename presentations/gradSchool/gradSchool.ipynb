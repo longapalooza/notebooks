{
 "cells": [
  {
   "cell_type": "markdown",
   "metadata": {
    "slideshow": {
     "slide_type": "slide"
    }
   },
   "source": [
    "# What About Grad School?\n",
    "___\n",
    "<br>\n",
    "<br>\n",
    "<br>\n",
    "<br>\n",
    "\n",
    "### <div style=\"text-align: right\">Will Long, PhD</div>"
   ]
  },
  {
   "cell_type": "markdown",
   "metadata": {
    "slideshow": {
     "slide_type": "slide"
    }
   },
   "source": [
    "## <u>About Me</u>"
   ]
  },
  {
   "cell_type": "markdown",
   "metadata": {
    "slideshow": {
     "slide_type": "fragment"
    }
   },
   "source": [
    "### Undergraduate:\n",
    "- Louisiana Tech University - Mechanical Engineering<br>Started in Nanosystems Engineering\n",
    "- 4 years + 1 quarter (Fall 2007 to Summer 2011)\n",
    "- 3.33 GPA, 3 Dropped Classes, No Interships/Co-Ops"
   ]
  },
  {
   "cell_type": "markdown",
   "metadata": {
    "slideshow": {
     "slide_type": "fragment"
    }
   },
   "source": [
    "### Graduate School:\n",
    "- Mississippi State University - Mechanical Engineering\n",
    "- 6 years (Spring 2012 to Spring 2018)\n",
    "- 3.57 GPA, <a href=\"https://www.researchgate.net/profile/William_Long17\">2 published papers</a>, 2 rejected papers\n",
    "- Dissertation Title \"Application of modular techniques to engineering systems\""
   ]
  },
  {
   "cell_type": "markdown",
   "metadata": {
    "slideshow": {
     "slide_type": "slide"
    }
   },
   "source": [
    "## <u>My Experience at MSState</u>"
   ]
  },
  {
   "cell_type": "markdown",
   "metadata": {
    "slideshow": {
     "slide_type": "subslide"
    }
   },
   "source": [
    "### First received funding from DOE\n",
    "- Investigated alternative energy systems\n",
    "- Specifically looked at organic Rankine cycles (ORC)\n",
    "- Funding was cut due to <a href=\"https://en.wikipedia.org/wiki/United_States_budget_sequestration_in_2013\">2013 US Budget sequestration</a>"
   ]
  },
  {
   "cell_type": "markdown",
   "metadata": {
    "slideshow": {
     "slide_type": "subslide"
    }
   },
   "source": [
    "### Then recieved funding from DOD\n",
    "- I was a US Citizen\n",
    "- I had to get a clearance (background check)\n",
    "- This is what landed me in the field of uncertainty analysis\n",
    "- Funding was cut due to loss of contract"
   ]
  },
  {
   "cell_type": "markdown",
   "metadata": {
    "slideshow": {
     "slide_type": "subslide"
    }
   },
   "source": [
    "### Finally received funding from teaching (being a lecturer)\n",
    "- Taught a variety of course\n",
    "    - Numerical Methods\n",
    "    - Machine Design\n",
    "    - Materials\n",
    "    - Modeling and Manufacturing\n",
    "    - System Dynamics\n",
    "    - Thermo\n",
    "- Class sizes ranged from ~10 to ~200 students"
   ]
  },
  {
   "cell_type": "markdown",
   "metadata": {
    "slideshow": {
     "slide_type": "subslide"
    }
   },
   "source": [
    "### PhD Program of study\n",
    "- 42 credit hours (14 classes) beyond B.S. degree\n",
    "- Two routes at MSState\n",
    "    - Materials\n",
    "    - Energy Systems\n",
    "        - Conduction Heat Transfer\n",
    "        - Intermediate Fluid Mechanics\n",
    "        - Classical Thermodynamics\n",
    "        - Convective Heat Transfer\n",
    "        - Air Conditioning\n",
    "        - Alternative Energy Sources\n",
    "        - Intermediate Heat Transfer\n",
    "        - Psyhcrometric Processes in Bluidings\n",
    "        - Dynamical Systems"
   ]
  }
 ],
 "metadata": {
  "celltoolbar": "Slideshow",
  "kernelspec": {
   "display_name": "Python 3",
   "language": "python",
   "name": "python3"
  },
  "language_info": {
   "codemirror_mode": {
    "name": "ipython",
    "version": 3
   },
   "file_extension": ".py",
   "mimetype": "text/x-python",
   "name": "python",
   "nbconvert_exporter": "python",
   "pygments_lexer": "ipython3",
   "version": "3.7.0"
  }
 },
 "nbformat": 4,
 "nbformat_minor": 2
}
