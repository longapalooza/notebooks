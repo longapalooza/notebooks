{
 "cells": [
  {
   "cell_type": "code",
   "execution_count": 1,
   "metadata": {},
   "outputs": [],
   "source": [
    "from IPython.core.interactiveshell import InteractiveShell\n",
    "InteractiveShell.ast_node_interactivity=\"all\"\n",
    "import pint as pu\n",
    "ureg=pu.UnitRegistry()\n",
    "UNIT=ureg.Quantity"
   ]
  },
  {
   "cell_type": "markdown",
   "metadata": {},
   "source": [
    "# Thermodynamics - Chapter 6.7-6.11\n",
    "***\n",
    "## <u>Example 2</u>\n",
    "### Given:\n",
    "A Carnot refrigeration cycle is executed in a closed system in the saturated liquid-vapor mixture region using $0.8 kg$ of R-134a as the working fluid. The maximum and minimum temperatures in the cycle are $20^\\circ C$ and $-8^\\circ C$, respectively. It is known that R-134a is a saturated liquid at the end of the heat rejection process, and the net work input to the cycle is $15 kJ$.\n",
    "### Required:\n",
    "Determine the mass that vaporizes during the heat addition process and the pressure at the end of the heat rejection process.\n",
    "### Solution:"
   ]
  },
  {
   "cell_type": "markdown",
   "metadata": {},
   "source": [
    "The maximum and minimum temperatures in the cycle are defined as"
   ]
  },
  {
   "cell_type": "code",
   "execution_count": 2,
   "metadata": {},
   "outputs": [
    {
     "data": {
      "text/html": [
       "293.15 kelvin"
      ],
      "text/latex": [
       "$293.15\\ \\mathrm{kelvin}$"
      ],
      "text/plain": [
       "293.15 <Unit('kelvin')>"
      ]
     },
     "execution_count": 2,
     "metadata": {},
     "output_type": "execute_result"
    },
    {
     "data": {
      "text/html": [
       "265.15 kelvin"
      ],
      "text/latex": [
       "$265.15\\ \\mathrm{kelvin}$"
      ],
      "text/plain": [
       "265.15 <Unit('kelvin')>"
      ]
     },
     "execution_count": 2,
     "metadata": {},
     "output_type": "execute_result"
    }
   ],
   "source": [
    "T_H=UNIT(20, 'degC').to('K')\n",
    "T_L=UNIT(-8, 'degC').to('K')\n",
    "T_H\n",
    "T_L"
   ]
  },
  {
   "cell_type": "markdown",
   "metadata": {},
   "source": [
    "The net work input to the cycle is defined as"
   ]
  },
  {
   "cell_type": "code",
   "execution_count": 3,
   "metadata": {},
   "outputs": [],
   "source": [
    "W_netin=UNIT(15, 'kJ')"
   ]
  },
  {
   "cell_type": "markdown",
   "metadata": {},
   "source": [
    "The COP of the cycle is found by"
   ]
  },
  {
   "cell_type": "code",
   "execution_count": 4,
   "metadata": {},
   "outputs": [
    {
     "data": {
      "text/plain": [
       "'9.47'"
      ]
     },
     "execution_count": 4,
     "metadata": {},
     "output_type": "execute_result"
    }
   ],
   "source": [
    "COP_Rrev=1/((T_H/T_L)-1)\n",
    "'{:.2f}'.format(COP_Rrev.magnitude)"
   ]
  },
  {
   "cell_type": "markdown",
   "metadata": {},
   "source": [
    "The heat accepted by the cycle is found by"
   ]
  },
  {
   "cell_type": "code",
   "execution_count": 5,
   "metadata": {},
   "outputs": [
    {
     "data": {
      "text/plain": [
       "'142.0 kilojoule'"
      ]
     },
     "execution_count": 5,
     "metadata": {},
     "output_type": "execute_result"
    }
   ],
   "source": [
    "Q_Lrev=COP_Rrev*W_netin\n",
    "'{:.1f}'.format(Q_Lrev)"
   ]
  },
  {
   "cell_type": "markdown",
   "metadata": {},
   "source": [
    "Going to Table A-11 @ $T_L=${{'{:~.1f}'.format(T_L)}} shows that the amount of energy to varporize R-134a is"
   ]
  },
  {
   "cell_type": "code",
   "execution_count": 6,
   "metadata": {},
   "outputs": [],
   "source": [
    "h_fg=UNIT(204.52, 'kJ/kg')"
   ]
  },
  {
   "cell_type": "markdown",
   "metadata": {},
   "source": [
    "Thus the mass that varporizes in the cycle is given by"
   ]
  },
  {
   "cell_type": "code",
   "execution_count": 7,
   "metadata": {},
   "outputs": [
    {
     "data": {
      "text/plain": [
       "'***'"
      ]
     },
     "execution_count": 7,
     "metadata": {},
     "output_type": "execute_result"
    },
    {
     "data": {
      "text/plain": [
       "'m_vap=0.6945 kilogram'"
      ]
     },
     "execution_count": 7,
     "metadata": {},
     "output_type": "execute_result"
    },
    {
     "data": {
      "text/plain": [
       "'***'"
      ]
     },
     "execution_count": 7,
     "metadata": {},
     "output_type": "execute_result"
    }
   ],
   "source": [
    "m_vap=Q_Lrev/h_fg\n",
    "'***'\n",
    "'m_vap={:.4f}'.format(m_vap)\n",
    "'***'"
   ]
  },
  {
   "cell_type": "markdown",
   "metadata": {},
   "source": [
    "The pressure at the end of the heat rejection process is then just the saturation pressure at the minimum temperature so going to Table A-11 @ $T_H=${{'{:~.1f}'.format(T_H)}} shows"
   ]
  },
  {
   "cell_type": "code",
   "execution_count": 8,
   "metadata": {},
   "outputs": [],
   "source": [
    "Psat=UNIT(572.07, 'kPa')"
   ]
  },
  {
   "cell_type": "markdown",
   "metadata": {},
   "source": [
    "Thus the temperature at the end of the heat rejection process is\n"
   ]
  },
  {
   "cell_type": "code",
   "execution_count": 9,
   "metadata": {},
   "outputs": [
    {
     "data": {
      "text/plain": [
       "'***'"
      ]
     },
     "execution_count": 9,
     "metadata": {},
     "output_type": "execute_result"
    },
    {
     "data": {
      "text/plain": [
       "'P4=572.07 kilopascal'"
      ]
     },
     "execution_count": 9,
     "metadata": {},
     "output_type": "execute_result"
    },
    {
     "data": {
      "text/plain": [
       "'***'"
      ]
     },
     "execution_count": 9,
     "metadata": {},
     "output_type": "execute_result"
    }
   ],
   "source": [
    "P4=Psat\n",
    "'***'\n",
    "'P4={:.2f}'.format(P4)\n",
    "'***'"
   ]
  }
 ],
 "metadata": {
  "kernelspec": {
   "display_name": "Python 3",
   "language": "python",
   "name": "python3"
  },
  "language_info": {
   "codemirror_mode": {
    "name": "ipython",
    "version": 3
   },
   "file_extension": ".py",
   "mimetype": "text/x-python",
   "name": "python",
   "nbconvert_exporter": "python",
   "pygments_lexer": "ipython3",
   "version": "3.7.0"
  }
 },
 "nbformat": 4,
 "nbformat_minor": 2
}
