{
 "cells": [
  {
   "attachments": {},
   "cell_type": "markdown",
   "metadata": {},
   "source": [
    "# ENGT 222 - Chapter 6.7-6.11\n",
    "***\n",
    "## <u>Example 3</u>\n",
    "### Given:\n",
    "A heat pump is to be used to heat a house during winter. The house is to be maintained at $21^\\circ C$. The house is estimated to lose heat at a rate of $135,000 \\frac{kJ}{hr}$ when the outside temperature drops to $-5^\\circ C$.\n",
    "### Required:\n",
    "Determine the minimum power required to drive this heat pump.\n",
    "### Solution:\n",
    "Any libraries that are needed are imported below. The unit registry is also created."
   ]
  },
  {
   "cell_type": "code",
   "execution_count": 1,
   "metadata": {},
   "outputs": [],
   "source": [
    "import pint as pu\n",
    "ureg=pu.UnitRegistry()\n",
    "Q_=ureg.Quantity"
   ]
  },
  {
   "attachments": {},
   "cell_type": "markdown",
   "metadata": {},
   "source": [
    "The cycles high and low temperatures are defined as"
   ]
  },
  {
   "cell_type": "code",
   "execution_count": 2,
   "metadata": {},
   "outputs": [
    {
     "name": "stdout",
     "output_type": "stream",
     "text": [
      "294.15 kelvin\n",
      "268.15 kelvin\n"
     ]
    }
   ],
   "source": [
    "T_H=Q_(21, 'degC').to('K')\n",
    "T_L=Q_(-5, 'degC').to('K')\n",
    "print(T_H)\n",
    "print(T_L)"
   ]
  },
  {
   "attachments": {},
   "cell_type": "markdown",
   "metadata": {},
   "source": [
    "The heat accepted by the cycle is defined as"
   ]
  },
  {
   "cell_type": "code",
   "execution_count": 3,
   "metadata": {},
   "outputs": [
    {
     "name": "stdout",
     "output_type": "stream",
     "text": [
      "37.5 kilowatt\n"
     ]
    }
   ],
   "source": [
    "Qd_H=Q_(135000, 'kJ/hr').to('kW')\n",
    "print(Qd_H)"
   ]
  },
  {
   "attachments": {},
   "cell_type": "markdown",
   "metadata": {},
   "source": [
    "The Carnot COP of the cycle may be found by"
   ]
  },
  {
   "cell_type": "code",
   "execution_count": 4,
   "metadata": {},
   "outputs": [
    {
     "name": "stdout",
     "output_type": "stream",
     "text": [
      "11.313461538461532 dimensionless\n"
     ]
    }
   ],
   "source": [
    "COP_HPrev=1/(1-T_L/T_H)\n",
    "print(COP_HPrev)"
   ]
  },
  {
   "attachments": {},
   "cell_type": "markdown",
   "metadata": {},
   "source": [
    "The minimum power required to power the cycle is the Carnot work which is found by"
   ]
  },
  {
   "cell_type": "code",
   "execution_count": 5,
   "metadata": {},
   "outputs": [],
   "source": [
    "Wd_netin=Qd_H/COP_HPrev"
   ]
  },
  {
   "cell_type": "markdown",
   "metadata": {
    "variables": {
     "'{:~.3f}'.format(Wd_netin)": "3.315 kW"
    }
   },
   "source": [
    "***\n",
    "$\\dot{W}_{net,in}=${{'{:~.3f}'.format(Wd_netin)}}\n",
    "***"
   ]
  }
 ],
 "metadata": {
  "kernelspec": {
   "display_name": "Python 3",
   "language": "python",
   "name": "python3"
  },
  "language_info": {
   "codemirror_mode": {
    "name": "ipython",
    "version": 3
   },
   "file_extension": ".py",
   "mimetype": "text/x-python",
   "name": "python",
   "nbconvert_exporter": "python",
   "pygments_lexer": "ipython3",
   "version": "3.7.0"
  }
 },
 "nbformat": 4,
 "nbformat_minor": 2
}
