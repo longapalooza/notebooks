{
 "cells": [
  {
   "attachments": {},
   "cell_type": "markdown",
   "metadata": {},
   "source": [
    "# ENGT 222 - Chapter 6.7-6.11\n",
    "***\n",
    "## <u>Example 4</u>\n",
    "### Given:\n",
    "During an experiment conducted in a room at $25^\\circ C$, a lab assistant measures that a refrigerator that draws $2 kW$ of power has removed $30,000 kJ$ of heat over at $20\\ minute$ period from a refrigerated space maintained at $-30^\\circ C$.\n",
    "### Required:\n",
    "Determine the COP of the refrigerator and whether it is possible.\n",
    "### Solution:\n",
    "Any libraries that are needed are imported below. The unit registry is also created."
   ]
  },
  {
   "cell_type": "code",
   "execution_count": 1,
   "metadata": {},
   "outputs": [],
   "source": [
    "import pint as pu\n",
    "ureg=pu.UnitRegistry()\n",
    "Q_=ureg.Quantity"
   ]
  },
  {
   "attachments": {},
   "cell_type": "markdown",
   "metadata": {},
   "source": [
    "The high and low temperatures of the cycle are defined as"
   ]
  },
  {
   "cell_type": "code",
   "execution_count": 2,
   "metadata": {},
   "outputs": [
    {
     "name": "stdout",
     "output_type": "stream",
     "text": [
      "298.15 kelvin\n",
      "243.14999999999998 kelvin\n"
     ]
    }
   ],
   "source": [
    "T_H=Q_(25, 'degC').to('K')\n",
    "T_L=Q_(-30, 'degC').to('K')\n",
    "print(T_H)\n",
    "print(T_L)"
   ]
  },
  {
   "attachments": {},
   "cell_type": "markdown",
   "metadata": {},
   "source": [
    "The rate of net work input to the cycle is defined as"
   ]
  },
  {
   "cell_type": "code",
   "execution_count": 3,
   "metadata": {},
   "outputs": [],
   "source": [
    "Wd_netin=Q_(2, 'kW')"
   ]
  },
  {
   "attachments": {},
   "cell_type": "markdown",
   "metadata": {},
   "source": [
    "The heat accepted by the cycle is defined as"
   ]
  },
  {
   "cell_type": "code",
   "execution_count": 4,
   "metadata": {},
   "outputs": [],
   "source": [
    "Q_L=Q_(30000, 'kJ')"
   ]
  },
  {
   "attachments": {},
   "cell_type": "markdown",
   "metadata": {},
   "source": [
    "The period of time is defined as"
   ]
  },
  {
   "cell_type": "code",
   "execution_count": 6,
   "metadata": {},
   "outputs": [],
   "source": [
    "deltat=Q_(20, 'min')"
   ]
  },
  {
   "attachments": {},
   "cell_type": "markdown",
   "metadata": {},
   "source": [
    "The net work input ot the cycle is found by"
   ]
  },
  {
   "cell_type": "code",
   "execution_count": 9,
   "metadata": {},
   "outputs": [
    {
     "name": "stdout",
     "output_type": "stream",
     "text": [
      "2400.0 kilojoule\n"
     ]
    }
   ],
   "source": [
    "W_netin=Wd_netin*deltat\n",
    "print(W_netin.to('kJ'))"
   ]
  },
  {
   "attachments": {},
   "cell_type": "markdown",
   "metadata": {},
   "source": [
    "The COP of the cycle is found by"
   ]
  },
  {
   "cell_type": "code",
   "execution_count": 13,
   "metadata": {},
   "outputs": [],
   "source": [
    "COP_R=Q_L/W_netin"
   ]
  },
  {
   "cell_type": "markdown",
   "metadata": {
    "variables": {
     "'{:.1f}'.format(COP_R.to('').magnitude)": "12.5"
    }
   },
   "source": [
    "***\n",
    "$COP_R=${{'{:.1f}'.format(COP_R.to('').magnitude)}}\n",
    "***"
   ]
  },
  {
   "attachments": {},
   "cell_type": "markdown",
   "metadata": {},
   "source": [
    "The Carnot COP of the cycle is found by"
   ]
  },
  {
   "cell_type": "code",
   "execution_count": 14,
   "metadata": {},
   "outputs": [
    {
     "name": "stdout",
     "output_type": "stream",
     "text": [
      "4.42090909090909 dimensionless\n"
     ]
    }
   ],
   "source": [
    "COP_Rrev=1/(T_H/T_L-1)\n",
    "print(COP_Rrev)"
   ]
  },
  {
   "cell_type": "markdown",
   "metadata": {},
   "source": [
    "***\n",
    "Since $COP_R > COP_{R,rev}$, the calculated cycle is <b><u>impossible</u></b>.\n",
    "***"
   ]
  }
 ],
 "metadata": {
  "kernelspec": {
   "display_name": "Python 3",
   "language": "python",
   "name": "python3"
  },
  "language_info": {
   "codemirror_mode": {
    "name": "ipython",
    "version": 3
   },
   "file_extension": ".py",
   "mimetype": "text/x-python",
   "name": "python",
   "nbconvert_exporter": "python",
   "pygments_lexer": "ipython3",
   "version": "3.7.0"
  }
 },
 "nbformat": 4,
 "nbformat_minor": 2
}
