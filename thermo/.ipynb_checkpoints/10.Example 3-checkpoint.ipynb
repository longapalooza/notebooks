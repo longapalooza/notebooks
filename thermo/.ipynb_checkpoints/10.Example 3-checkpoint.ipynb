{
 "cells": [
  {
   "cell_type": "code",
   "execution_count": 1,
   "metadata": {},
   "outputs": [],
   "source": [
    "from IPython.core.interactiveshell import InteractiveShell\n",
    "InteractiveShell.ast_node_interactivity=\"all\"\n",
    "import pint\n",
    "ureg=pint.UnitRegistry()\n",
    "UNIT=ureg.Quantity"
   ]
  },
  {
   "cell_type": "markdown",
   "metadata": {},
   "source": [
    "# Thermodynamics - Chapter 6.7-6.11\n",
    "***\n",
    "## <u>Example 3</u>\n",
    "### Given:\n",
    "A heat pump is to be used to heat a house during winter. The house is to be maintained at $21^\\circ C$. The house is estimated to lose heat at a rate of $135,000 \\frac{kJ}{hr}$ when the outside temperature drops to $-5^\\circ C$.\n",
    "### Required:\n",
    "Determine the minimum power required to drive this heat pump.\n",
    "### Solution:"
   ]
  },
  {
   "cell_type": "markdown",
   "metadata": {},
   "source": [
    "The cycles high and low temperatures are defined as"
   ]
  },
  {
   "cell_type": "code",
   "execution_count": 2,
   "metadata": {},
   "outputs": [
    {
     "data": {
      "text/html": [
       "294.15 kelvin"
      ],
      "text/latex": [
       "$294.15\\ \\mathrm{kelvin}$"
      ],
      "text/plain": [
       "294.15 <Unit('kelvin')>"
      ]
     },
     "execution_count": 2,
     "metadata": {},
     "output_type": "execute_result"
    },
    {
     "data": {
      "text/html": [
       "268.15 kelvin"
      ],
      "text/latex": [
       "$268.15\\ \\mathrm{kelvin}$"
      ],
      "text/plain": [
       "268.15 <Unit('kelvin')>"
      ]
     },
     "execution_count": 2,
     "metadata": {},
     "output_type": "execute_result"
    }
   ],
   "source": [
    "T_H=UNIT(21, 'degC').to('K')\n",
    "T_L=UNIT(-5, 'degC').to('K')\n",
    "T_H\n",
    "T_L"
   ]
  },
  {
   "cell_type": "markdown",
   "metadata": {},
   "source": [
    "The heat accepted by the cycle is defined as"
   ]
  },
  {
   "cell_type": "code",
   "execution_count": 3,
   "metadata": {},
   "outputs": [
    {
     "data": {
      "text/plain": [
       "'37.5 kilowatt'"
      ]
     },
     "execution_count": 3,
     "metadata": {},
     "output_type": "execute_result"
    }
   ],
   "source": [
    "Qd_H=UNIT(135000, 'kJ/hr').to('kW')\n",
    "'{:.1f}'.format(Qd_H)"
   ]
  },
  {
   "cell_type": "markdown",
   "metadata": {},
   "source": [
    "The Carnot COP of the cycle may be found by"
   ]
  },
  {
   "cell_type": "code",
   "execution_count": 4,
   "metadata": {},
   "outputs": [
    {
     "data": {
      "text/plain": [
       "'11.31'"
      ]
     },
     "execution_count": 4,
     "metadata": {},
     "output_type": "execute_result"
    }
   ],
   "source": [
    "COP_HPrev=1/(1-T_L/T_H)\n",
    "'{:.2f}'.format(COP_HPrev.magnitude)"
   ]
  },
  {
   "cell_type": "markdown",
   "metadata": {},
   "source": [
    "The minimum power required to power the cycle is the Carnot work which is found by"
   ]
  },
  {
   "cell_type": "code",
   "execution_count": 5,
   "metadata": {},
   "outputs": [
    {
     "data": {
      "text/plain": [
       "'***'"
      ]
     },
     "execution_count": 5,
     "metadata": {},
     "output_type": "execute_result"
    },
    {
     "data": {
      "text/plain": [
       "'Wd_netin=3.31 kilowatt'"
      ]
     },
     "execution_count": 5,
     "metadata": {},
     "output_type": "execute_result"
    },
    {
     "data": {
      "text/plain": [
       "'***'"
      ]
     },
     "execution_count": 5,
     "metadata": {},
     "output_type": "execute_result"
    }
   ],
   "source": [
    "Wd_netin=Qd_H/COP_HPrev\n",
    "'***'\n",
    "'Wd_netin={:.2f}'.format(Wd_netin)\n",
    "'***'"
   ]
  }
 ],
 "metadata": {
  "kernelspec": {
   "display_name": "Python 3",
   "language": "python",
   "name": "python3"
  },
  "language_info": {
   "codemirror_mode": {
    "name": "ipython",
    "version": 3
   },
   "file_extension": ".py",
   "mimetype": "text/x-python",
   "name": "python",
   "nbconvert_exporter": "python",
   "pygments_lexer": "ipython3",
   "version": "3.7.0"
  }
 },
 "nbformat": 4,
 "nbformat_minor": 2
}
