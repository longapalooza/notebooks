{
 "cells": [
  {
   "cell_type": "markdown",
   "metadata": {},
   "source": [
    "# ENGT 222 - Chapter 6.7-6.11\n",
    "***\n",
    "## <u>Example 2</u>\n",
    "### Given:\n",
    "A Carnot refrigeration cycle is executed in a closed system in the saturated liquid-vapor mixture region using $0.8 kg$ of R-134a as the working fluid. The maximum and minimum temperatures in the cycle are $20^\\circ C$ and $-8^\\circ C$, respectively. It is known that R-134a is a saturated liquid at the end of the heat rejection process, and the net work input to the cycle is $15 kJ$.\n",
    "### Required:\n",
    "Determine the mass that vaporizes during the heat addition process and the pressure at the end of the heat rejection process.\n",
    "### Solution:\n",
    "Interactive mode is turned on so that values are automatically displayed. This is shown below."
   ]
  },
  {
   "cell_type": "code",
   "execution_count": null,
   "metadata": {},
   "outputs": [],
   "source": [
    "from IPython.core.interactiveshell import InteractiveShell\n",
    "InteractiveShell.ast_node_interactivity=\"all\""
   ]
  },
  {
   "cell_type": "markdown",
   "metadata": {},
   "source": [
    "Any libraries that are needed are imported below. The unit registry is also created."
   ]
  },
  {
   "cell_type": "code",
   "execution_count": 1,
   "metadata": {},
   "outputs": [],
   "source": [
    "import pint as pu\n",
    "ureg=pu.UnitRegistry()\n",
    "UNIT=ureg.Quantity"
   ]
  },
  {
   "cell_type": "markdown",
   "metadata": {},
   "source": [
    "The maximum and minimum temperatures in the cycle are defined as"
   ]
  },
  {
   "cell_type": "code",
   "execution_count": 2,
   "metadata": {},
   "outputs": [
    {
     "name": "stdout",
     "output_type": "stream",
     "text": [
      "293.15 kelvin\n",
      "265.15 kelvin\n"
     ]
    }
   ],
   "source": [
    "T_H=UNIT(20, 'degC').to('K')\n",
    "T_L=UNIT(-8, 'degC').to('K')\n",
    "T_H\n",
    "T_L"
   ]
  },
  {
   "cell_type": "markdown",
   "metadata": {},
   "source": [
    "The net work input to the cycle is defined as"
   ]
  },
  {
   "cell_type": "code",
   "execution_count": 3,
   "metadata": {},
   "outputs": [],
   "source": [
    "W_netin=UNIT(15, 'kJ')"
   ]
  },
  {
   "cell_type": "markdown",
   "metadata": {},
   "source": [
    "The COP of the cycle is found by"
   ]
  },
  {
   "cell_type": "code",
   "execution_count": 4,
   "metadata": {},
   "outputs": [
    {
     "name": "stdout",
     "output_type": "stream",
     "text": [
      "9.469642857142858 dimensionless\n"
     ]
    }
   ],
   "source": [
    "COP_Rrev=1/((T_H/T_L)-1)\n",
    "''COP_Rrev"
   ]
  },
  {
   "cell_type": "markdown",
   "metadata": {},
   "source": [
    "The heat accepted by the cycle is found by"
   ]
  },
  {
   "cell_type": "code",
   "execution_count": 5,
   "metadata": {},
   "outputs": [
    {
     "name": "stdout",
     "output_type": "stream",
     "text": [
      "142.0446428571429 kilojoule\n"
     ]
    }
   ],
   "source": [
    "Q_Lrev=COP_Rrev*W_netin\n",
    "print(Q_Lrev)"
   ]
  },
  {
   "cell_type": "markdown",
   "metadata": {},
   "source": [
    "Going to Table A-11 @ $T_L=${{'{:~.1f}'.format(T_L)}} shows that the amount of energy to varporize R-134a is"
   ]
  },
  {
   "cell_type": "code",
   "execution_count": 6,
   "metadata": {},
   "outputs": [],
   "source": [
    "h_fg=Q_(204.52, 'kJ/kg')"
   ]
  },
  {
   "cell_type": "markdown",
   "metadata": {},
   "source": [
    "Thus the mass that varporizes in the cycle is given by"
   ]
  },
  {
   "cell_type": "code",
   "execution_count": 7,
   "metadata": {},
   "outputs": [],
   "source": [
    "m_vap=Q_Lrev/h_fg"
   ]
  },
  {
   "cell_type": "markdown",
   "metadata": {
    "variables": {
     "'{:~.4f}'.format(m_vap)": "0.6945 kg"
    }
   },
   "source": [
    "***\n",
    "$m_{vap}=${{'{:~.4f}'.format(m_vap)}}\n",
    "***"
   ]
  },
  {
   "cell_type": "markdown",
   "metadata": {},
   "source": [
    "The pressure at the end of the heat rejection process is then just the saturation pressure at the minimum temperature so going to Table A-11 @ $T_H=${{'{:~.1f}'.format(T_H)}} shows"
   ]
  },
  {
   "cell_type": "code",
   "execution_count": 8,
   "metadata": {},
   "outputs": [],
   "source": [
    "Psat=Q_(572.07, 'kPa')"
   ]
  },
  {
   "cell_type": "markdown",
   "metadata": {
    "variables": {
     "'{:~.1f}'.format(Psat)": "572.1 kPa"
    }
   },
   "source": [
    "Thus the temperature at the end of the heat rejection process is\n",
    "***\n",
    "$P_4=P_{sat}=${{'{:~.1f}'.format(Psat)}}\n",
    "***"
   ]
  }
 ],
 "metadata": {
  "kernelspec": {
   "display_name": "Python 3",
   "language": "python",
   "name": "python3"
  },
  "language_info": {
   "codemirror_mode": {
    "name": "ipython",
    "version": 3
   },
   "file_extension": ".py",
   "mimetype": "text/x-python",
   "name": "python",
   "nbconvert_exporter": "python",
   "pygments_lexer": "ipython3",
   "version": "3.7.0"
  }
 },
 "nbformat": 4,
 "nbformat_minor": 2
}
