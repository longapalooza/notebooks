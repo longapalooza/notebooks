{
 "cells": [
  {
   "cell_type": "markdown",
   "metadata": {},
   "source": [
    "# ENGT 222 - Chapter 6.7-6.11\n",
    "***\n",
    "## <u>Example 1</u>\n",
    "### Given:\n",
    "A Carnot heat engine receives $500 kJ$ of heat per cycle from a high temperature source at $652^\\circ C$ and rejects heat to a low temperature sink at $30^\\circ C$.\n",
    "### Required:\n",
    "Determine the thermal efficiency of this Carnot engine and the amount of heat rejected to the sink per cycle.\n",
    "### Solution:\n",
    "Any libraries that are needed are imported below. The unit registry is also created."
   ]
  },
  {
   "cell_type": "code",
   "execution_count": 1,
   "metadata": {},
   "outputs": [],
   "source": [
    "from IPython.core.interactiveshell import InteractiveShell\n",
    "InteractiveShell.ast_node_interactivity = \"all\"\n",
    "import pint as pu\n",
    "ureg=pu.UnitRegistry()\n",
    "Q_=ureg.Quantity"
   ]
  },
  {
   "cell_type": "markdown",
   "metadata": {},
   "source": [
    "The heat accepted by the heat engine is defined as"
   ]
  },
  {
   "cell_type": "code",
   "execution_count": 2,
   "metadata": {},
   "outputs": [],
   "source": [
    "Q_Hrev=Q_(500, ureg.kJ)"
   ]
  },
  {
   "cell_type": "markdown",
   "metadata": {},
   "source": [
    "The temperatures of the high and low temperature reservoirs are defined as"
   ]
  },
  {
   "cell_type": "code",
   "execution_count": 6,
   "metadata": {},
   "outputs": [
    {
     "data": {
      "text/html": [
       "925.15 kelvin"
      ],
      "text/latex": [
       "$925.15\\ \\mathrm{kelvin}$"
      ],
      "text/plain": [
       "925.15 <Unit('kelvin')>"
      ]
     },
     "execution_count": 6,
     "metadata": {},
     "output_type": "execute_result"
    },
    {
     "name": "stdout",
     "output_type": "stream",
     "text": [
      "925.15 kelvin\n",
      "303.15 kelvin\n"
     ]
    }
   ],
   "source": [
    "T_H=Q_(652, 'degC').to('K')\n",
    "T_L=Q_(30, 'degC').to('K')\n",
    "T_H\n",
    "T_L"
   ]
  },
  {
   "cell_type": "markdown",
   "metadata": {},
   "source": [
    "The thermal efficiency of the Carnot engine is then found by"
   ]
  },
  {
   "cell_type": "code",
   "execution_count": 4,
   "metadata": {},
   "outputs": [
    {
     "name": "stdout",
     "output_type": "stream",
     "text": [
      "67.2%\n"
     ]
    }
   ],
   "source": [
    "N_threv=1-T_L/T_H\n",
    "print('{:.1f}%'.format(N_threv.magnitude*100))"
   ]
  },
  {
   "cell_type": "markdown",
   "metadata": {},
   "source": [
    "Using the definition of thermal efficiency, the heat rejected by the cycle may be found by\n",
    "\n",
    "$N_{th}=1-\\frac{Q_L}{Q_H}$\n",
    "\n",
    "Rearranging shows"
   ]
  },
  {
   "cell_type": "code",
   "execution_count": 5,
   "metadata": {},
   "outputs": [
    {
     "name": "stdout",
     "output_type": "stream",
     "text": [
      "163.8 kilojoule\n"
     ]
    }
   ],
   "source": [
    "Q_Lrev=Q_Hrev*(1-N_threv)\n",
    "print('{:.1f}'.format(Q_Lrev))"
   ]
  }
 ],
 "metadata": {
  "kernelspec": {
   "display_name": "Python 3",
   "language": "python",
   "name": "python3"
  },
  "language_info": {
   "codemirror_mode": {
    "name": "ipython",
    "version": 3
   },
   "file_extension": ".py",
   "mimetype": "text/x-python",
   "name": "python",
   "nbconvert_exporter": "python",
   "pygments_lexer": "ipython3",
   "version": "3.7.0"
  }
 },
 "nbformat": 4,
 "nbformat_minor": 2
}
